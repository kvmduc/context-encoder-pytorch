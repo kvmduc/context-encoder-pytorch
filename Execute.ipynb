{
 "cells": [
  {
   "cell_type": "code",
   "execution_count": 1,
   "metadata": {
    "colab": {
     "base_uri": "https://localhost:8080/"
    },
    "id": "St8ek7famycC",
    "outputId": "eaa25ea4-4fb5-4889-d270-bb7de05cdcfb"
   },
   "outputs": [
    {
     "name": "stdout",
     "output_type": "stream",
     "text": [
      "[WinError 2] The system cannot find the file specified: 'context_encoder_pytorch/'\n",
      "C:\\Users\\Casablanca\\context_encoder_pytorch\n"
     ]
    }
   ],
   "source": [
    "%cd context_encoder_pytorch/\n"
   ]
  },
  {
   "cell_type": "markdown",
   "metadata": {},
   "source": [
    "## Tải pretrained model"
   ]
  },
  {
   "cell_type": "code",
   "execution_count": 7,
   "metadata": {
    "colab": {
     "base_uri": "https://localhost:8080/",
     "height": 102
    },
    "id": "gIgzaFmJkkv7",
    "outputId": "67c461dc-ea8e-4c3a-ceb4-e797ada20d65"
   },
   "outputs": [
    {
     "name": "stderr",
     "output_type": "stream",
     "text": [
      "Downloading...\n",
      "From: https://drive.google.com/uc?id=0B6oeoQaX0xmzS0RXXzNYZkZ3ZUk\n",
      "To: C:\\Users\\Casablanca\\context_encoder_pytorch\\netG_streetview.pth\n",
      "285MB [00:31, 8.94MB/s] \n"
     ]
    },
    {
     "data": {
      "text/plain": [
       "'netG_streetview.pth'"
      ]
     },
     "execution_count": 7,
     "metadata": {},
     "output_type": "execute_result"
    }
   ],
   "source": [
    "import gdown\n",
    "\n",
    "url = 'https://drive.google.com/uc?id=0B6oeoQaX0xmzS0RXXzNYZkZ3ZUk'\n",
    "output = 'netG_streetview.pth'\n",
    "gdown.download(url, output, quiet=False)"
   ]
  },
  {
   "cell_type": "code",
   "execution_count": 9,
   "metadata": {
    "id": "u1G1hmXzoy-4"
   },
   "outputs": [
    {
     "name": "stderr",
     "output_type": "stream",
     "text": [
      "A subdirectory or file model already exists.\n"
     ]
    },
    {
     "name": "stdout",
     "output_type": "stream",
     "text": [
      "        1 file(s) moved.\n"
     ]
    }
   ],
   "source": [
    "!mkdir model\n",
    "!mv netG_streetview.pth ./model\n"
   ]
  },
  {
   "cell_type": "markdown",
   "metadata": {},
   "source": [
    "## Inference một ảnh"
   ]
  },
  {
   "cell_type": "code",
   "execution_count": null,
   "metadata": {
    "colab": {
     "base_uri": "https://localhost:8080/"
    },
    "id": "lb_Tvq8p5Qw8",
    "outputId": "1138eea5-e0c4-477a-c04a-d2b68cdf325f"
   },
   "outputs": [],
   "source": [
    "!python test_one.py --netG model/netG_streetview.pth --test_image result/test/cropped/006_im.png"
   ]
  },
  {
   "cell_type": "markdown",
   "metadata": {},
   "source": [
    "## Train lại dữ liệu mới\n",
    "\n",
    "+ Bỏ dữ liệu vô thư mục `dataset/train`, chỉ cần bỏ ảnh"
   ]
  },
  {
   "cell_type": "code",
   "execution_count": null,
   "metadata": {},
   "outputs": [],
   "source": [
    "#!python train.py --cuda --wtl2 0.999 --niter 200"
   ]
  },
  {
   "cell_type": "markdown",
   "metadata": {},
   "source": [
    "## Test đồng loạt một batch"
   ]
  },
  {
   "cell_type": "code",
   "execution_count": null,
   "metadata": {},
   "outputs": [],
   "source": [
    "#!python test.py --netG model/netG_streetview.pth --dataroot dataset/val --batchSize 100"
   ]
  }
 ],
 "metadata": {
  "colab": {
   "collapsed_sections": [],
   "name": "Context_encoder.ipynb",
   "provenance": []
  },
  "kernelspec": {
   "display_name": "Python 3",
   "language": "python",
   "name": "python3"
  },
  "language_info": {
   "codemirror_mode": {
    "name": "ipython",
    "version": 3
   },
   "file_extension": ".py",
   "mimetype": "text/x-python",
   "name": "python",
   "nbconvert_exporter": "python",
   "pygments_lexer": "ipython3",
   "version": "3.7.6"
  }
 },
 "nbformat": 4,
 "nbformat_minor": 1
}
